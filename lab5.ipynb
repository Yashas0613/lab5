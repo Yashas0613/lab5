{
 "cells": [
  {
   "cell_type": "code",
   "execution_count": null,
   "id": "61ab99d1",
   "metadata": {},
   "outputs": [],
   "source": [
    "l=input(list[])"
   ]
  },
  {
   "cell_type": "code",
   "execution_count": 1,
   "id": "7654ba06",
   "metadata": {},
   "outputs": [
    {
     "name": "stdout",
     "output_type": "stream",
     "text": [
      "enter the number of elements: 4\n",
      "2\n",
      "4\n",
      "1\n",
      "2\n",
      "[1, 2, 2, 4]\n",
      "[4, 2, 2, 1]\n"
     ]
    }
   ],
   "source": [
    "\n",
    "lst=[]\n",
    "\n",
    "n=int(input(\"enter the number of elements: \"))\n",
    "\n",
    "for i in range(0,n):\n",
    "    ele = int(input( ))\n",
    "    lst.append(ele)\n",
    "lst.sort()\n",
    "print(str(lst))\n",
    "lst.sort(reverse=True)\n",
    "print(str(lst))"
   ]
  },
  {
   "cell_type": "markdown",
   "id": "571992d5",
   "metadata": {},
   "source": []
  },
  {
   "cell_type": "code",
   "execution_count": 4,
   "id": "4102f7ee",
   "metadata": {},
   "outputs": [
    {
     "name": "stdout",
     "output_type": "stream",
     "text": [
      "enter the number of rows of fist matrix: 2\n",
      "enter the number of columns of first matrix: 2\n",
      "enter the number of rows of second matrix: 2\n",
      "enter the number of columns of second matrix: 2\n",
      "enter first matrix\n",
      "4\n",
      "5\n",
      "7\n",
      "3\n",
      "enter second matrix\n",
      "4\n",
      "3\n",
      "2\n",
      "5\n",
      "[[8, 8], [9, 8]]\n",
      "8 8 \n",
      "9 8 \n"
     ]
    }
   ],
   "source": [
    "m=int(input(\"enter the number of rows of fist matrix: \"))\n",
    "n=int(input(\"enter the number of columns of first matrix: \"))\n",
    "o=int(input(\"enter the number of rows of second matrix: \"))\n",
    "p=int(input(\"enter the number of columns of second matrix: \"))\n",
    "print(\"enter first matrix\")\n",
    "x=[]\n",
    "for i in range(m):\n",
    "    x.append([])\n",
    "    for j in range(n):\n",
    "        l=int(input())\n",
    "        x[i].append(l)\n",
    "print(\"enter second matrix\")\n",
    "y=[]\n",
    "for i in range(o):\n",
    "    y.append([])\n",
    "    for j in range(p):\n",
    "        h=int(input())\n",
    "        y[i].append(h)\n",
    "r=[]\n",
    "for i in range(m):\n",
    "    r.append([])\n",
    "    for j in range(p):\n",
    "        r[i].append(x[i][j]+y[i][j])\n",
    "print(r)\n",
    "for i in range(m):\n",
    "    for j in range(n):\n",
    "        print(r[i][j], end=' ')\n",
    "    print()"
   ]
  },
  {
   "cell_type": "markdown",
   "id": "621219ed",
   "metadata": {},
   "source": [
    "##### 2## "
   ]
  },
  {
   "cell_type": "code",
   "execution_count": null,
   "id": "32f4bef3",
   "metadata": {},
   "outputs": [],
   "source": [
    "lst=[]\n",
    "\n",
    "n=int(input(\"enter the number of elements: \"))\n",
    "\n",
    "for i in range(0,n):\n",
    "    ele = int(input( ))\n",
    "    lst.append(ele)\n",
    "print(lst)\n",
    "a=int(input(\"Enter the number to be removed: \"))\n",
    "lst.remove(a)\n",
    "print(lst)"
   ]
  },
  {
   "cell_type": "code",
   "execution_count": 4,
   "id": "a52a889d",
   "metadata": {},
   "outputs": [
    {
     "name": "stdout",
     "output_type": "stream",
     "text": [
      "enter a number: 3\n",
      "1 0 0 \n",
      "0 1 0 \n",
      "0 0 1 \n"
     ]
    }
   ],
   "source": [
    "n=int(input(\"enter a number: \"))\n",
    "for i in range(0,n):\n",
    "    for j in range(0,n):\n",
    "        if(i==j):\n",
    "            print(\"1\",sep=\" \",end=\" \")\n",
    "        else:\n",
    "            print(\"0\",sep=\" \",end=\" \")\n",
    "    print()"
   ]
  },
  {
   "cell_type": "code",
   "execution_count": 14,
   "id": "e6c791d0",
   "metadata": {},
   "outputs": [
    {
     "name": "stdout",
     "output_type": "stream",
     "text": [
      "enter the number of elements: 4\n",
      "1\n",
      "2\n",
      "3\n",
      "4\n",
      "sum=10\n",
      "mean=2.5\n",
      "variance=1.6666666666666667\n",
      "Standard deviation=1.2909944487358056\n"
     ]
    }
   ],
   "source": [
    "lst=[]\n",
    "\n",
    "n=int(input(\"enter the number of elements: \"))\n",
    "\n",
    "for i in range(0,n):\n",
    "    ele = int(input( ))\n",
    "    lst.append(ele)\n",
    "s=0    \n",
    "for i in range(n):\n",
    "    s=s+lst[i]\n",
    "print(\"sum=\"+str(s))\n",
    "\n",
    "mean=s/n\n",
    "print(\"mean=\"+str(mean))\n",
    "\n",
    "k=0\n",
    "for i in range(n):\n",
    "    k=k+((lst[i]-mean)*(lst[i]-mean))\n",
    "    \n",
    "var=k/(n-1)\n",
    "print(\"variance=\"+str(var))\n",
    "import math\n",
    "print(\"Standard deviation=\"+str(math.sqrt(var)))"
   ]
  },
  {
   "cell_type": "code",
   "execution_count": 22,
   "id": "8845f010",
   "metadata": {},
   "outputs": [
    {
     "name": "stdout",
     "output_type": "stream",
     "text": [
      "enter the number of elements: 4\n",
      "1\n",
      "2\n",
      "3\n",
      "4\n",
      "Enter the search element: 4\n",
      "element found at position 4\n"
     ]
    }
   ],
   "source": [
    "lst=[]\n",
    "\n",
    "n=int(input(\"enter the number of elements: \"))\n",
    "\n",
    "for i in range(0,n):\n",
    "    ele = int(input( ))\n",
    "    lst.append(ele)\n",
    "    \n",
    "srch=int(input(\"Enter the search element: \"))\n",
    "\n",
    "for i in range(n):\n",
    "    if(srch==lst[i]):\n",
    "        k=i\n",
    "    else:\n",
    "        k=-1\n",
    "        \n",
    "if(k==-1):\n",
    "    print(\"element not found\")\n",
    "else:\n",
    "    print(\"element found at position \"+str(i+1))\n",
    "   "
   ]
  },
  {
   "cell_type": "code",
   "execution_count": null,
   "id": "0a8b784c",
   "metadata": {},
   "outputs": [],
   "source": [
    "lst=[]\n",
    "\n",
    "n=int(input(\"enter the number of elements: \"))\n",
    "\n",
    "for i in range(0,n):\n",
    "    ele = int(input( ))\n",
    "    lst.append(ele)\n",
    "x=int(input(\"Enter the search element: \"))\n",
    "\n",
    "def binsrch(lst,x,low,high):\n",
    "    while low<=high:\n",
    "        mid = (low + high)/2\n",
    "                   if (x == lst[mid])\n",
    "                   return mid\n",
    "   \n",
    "                   else if (x > lst[mid]) \n",
    "                       low = mid + 1\n",
    "   \n",
    "                   else                 \n",
    "                       high = mid - 1\n",
    "res=binsrch(lst,x,0,n)\n"
   ]
  }
 ],
 "metadata": {
  "kernelspec": {
   "display_name": "Python 3 (ipykernel)",
   "language": "python",
   "name": "python3"
  },
  "language_info": {
   "codemirror_mode": {
    "name": "ipython",
    "version": 3
   },
   "file_extension": ".py",
   "mimetype": "text/x-python",
   "name": "python",
   "nbconvert_exporter": "python",
   "pygments_lexer": "ipython3",
   "version": "3.9.12"
  }
 },
 "nbformat": 4,
 "nbformat_minor": 5
}
